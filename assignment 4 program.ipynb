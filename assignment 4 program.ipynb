{
 "cells": [
  {
   "cell_type": "code",
   "execution_count": 10,
   "id": "942a1e77",
   "metadata": {},
   "outputs": [
    {
     "name": "stdout",
     "output_type": "stream",
     "text": [
      "enter the number5\n",
      "the factorial of a number is 120\n"
     ]
    }
   ],
   "source": [
    "#q1\n",
    "n = int(input(\"enter the number\"))\n",
    "fact = 1\n",
    "for i in range(1,n+1):\n",
    "    fact = fact * i\n",
    "    \n",
    "print(\"the factorial of a number is\", fact)\n",
    "    "
   ]
  },
  {
   "cell_type": "code",
   "execution_count": 15,
   "id": "cba20ca7",
   "metadata": {},
   "outputs": [
    {
     "name": "stdout",
     "output_type": "stream",
     "text": [
      "enter the number whoes table is needed7\n",
      "7 * 1 = 7\n",
      "7 * 2 = 14\n",
      "7 * 3 = 21\n",
      "7 * 4 = 28\n",
      "7 * 5 = 35\n",
      "7 * 6 = 42\n",
      "7 * 7 = 49\n",
      "7 * 8 = 56\n",
      "7 * 9 = 63\n"
     ]
    }
   ],
   "source": [
    "#q2\n",
    "n = int(input(\"enter the number whoes table is needed\"))\n",
    "for i in range(1,10):\n",
    "    k = n * i\n",
    "    print(n,\"*\",i , \"=\", k)\n",
    "    "
   ]
  },
  {
   "cell_type": "code",
   "execution_count": 25,
   "id": "b2e5126f",
   "metadata": {},
   "outputs": [
    {
     "name": "stdout",
     "output_type": "stream",
     "text": [
      "enter the number till which series is required:9\n",
      "0 1 1 2 3 5 8 13 21 34 55 89"
     ]
    }
   ],
   "source": [
    "#q3\n",
    "n = int(input(\"enter the number till which series is required:\"))\n",
    "a = 0\n",
    "b = 1 \n",
    "print(a , b , end=\"\")\n",
    "for i in range(0,n+1):\n",
    "    c = a + b\n",
    "    a = b\n",
    "    b = c\n",
    "    print( \" \", end = \"\")\n",
    "    print(c , end =\"\")"
   ]
  },
  {
   "cell_type": "code",
   "execution_count": 39,
   "id": "c9efa4e0",
   "metadata": {},
   "outputs": [
    {
     "name": "stdout",
     "output_type": "stream",
     "text": [
      "enter a number:153\n",
      "the number is amstrong\n",
      "153\n"
     ]
    }
   ],
   "source": [
    "#q4\n",
    "n = int(input(\"enter a number:\"))\n",
    "s = 0\n",
    "temp = n\n",
    "while temp!= 0:\n",
    "    k = temp % 10\n",
    "   \n",
    "    m = (k*k*k)\n",
    "    s = s+ m\n",
    "    temp = int(temp/10)\n",
    "if s == n:\n",
    "    print(\"the number is amstrong\")\n",
    "else:\n",
    "    print(\"the number not amstrong\")\n",
    "print(s)\n",
    "    "
   ]
  },
  {
   "cell_type": "code",
   "execution_count": 43,
   "id": "9ae28247",
   "metadata": {},
   "outputs": [
    {
     "name": "stdout",
     "output_type": "stream",
     "text": [
      "enter the start of the range:1\n",
      "enter the end of the range:156\n",
      "1  153  "
     ]
    }
   ],
   "source": [
    "#q5\n",
    "a = int(input(\"enter the start of the range:\"))\n",
    "b = int(input(\"enter the end of the range:\"))\n",
    "for i in range(a,b):\n",
    "    s = 0\n",
    "    temp = i\n",
    "    while temp!=0:\n",
    "        k = temp% 10\n",
    "        m = k*k*k\n",
    "        s = s + m\n",
    "        temp = int(temp/10)\n",
    "    if(s==i):\n",
    "        print(i,\" \" ,end=\"\")"
   ]
  },
  {
   "cell_type": "code",
   "execution_count": 45,
   "id": "e23b8cbe",
   "metadata": {},
   "outputs": [
    {
     "name": "stdout",
     "output_type": "stream",
     "text": [
      "enter the end of the range of natural number:100\n",
      "the sum of natural numbers is 4950\n"
     ]
    }
   ],
   "source": [
    "#q6\n",
    "n = int(input(\"enter the end of the range of natural number:\"))\n",
    "s = 0\n",
    "for i in range(1,n):\n",
    "    s = s + i\n",
    "print(\"the sum of natural numbers is\" , s)    "
   ]
  },
  {
   "cell_type": "code",
   "execution_count": null,
   "id": "75b81c06",
   "metadata": {},
   "outputs": [],
   "source": []
  }
 ],
 "metadata": {
  "kernelspec": {
   "display_name": "Python 3 (ipykernel)",
   "language": "python",
   "name": "python3"
  },
  "language_info": {
   "codemirror_mode": {
    "name": "ipython",
    "version": 3
   },
   "file_extension": ".py",
   "mimetype": "text/x-python",
   "name": "python",
   "nbconvert_exporter": "python",
   "pygments_lexer": "ipython3",
   "version": "3.9.7"
  }
 },
 "nbformat": 4,
 "nbformat_minor": 5
}
